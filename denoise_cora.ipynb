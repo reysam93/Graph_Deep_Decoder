{
 "cells": [
  {
   "cell_type": "code",
   "execution_count": 18,
   "metadata": {},
   "outputs": [
    {
     "name": "stdout",
     "output_type": "stream",
     "text": [
      "cuda:0\n"
     ]
    }
   ],
   "source": [
    "import sys\n",
    "import time\n",
    "\n",
    "import numpy as np\n",
    "import torch\n",
    "from torch import nn\n",
    "import matplotlib.pyplot as plt\n",
    "from torch_geometric.datasets import Planetoid\n",
    "from torch_geometric.utils import to_dense_adj\n",
    "\n",
    "from pygsp.graphs import Graph\n",
    "import networkx as nx\n",
    "\n",
    "# For unrolling\n",
    "# sys.path.insert(0, './GUN')\n",
    "\n",
    "sys.path.insert(0, '..')\n",
    "from graph_deep_decoder import datasets as ds\n",
    "from graph_deep_decoder import utils\n",
    "from graph_deep_decoder.model import select_model, Model\n",
    "from graph_deep_decoder.architecture import Ups\n",
    "from graph_deep_decoder.graph_clustering import MultiResGraphClustering\n",
    "\n",
    "SEED = 0\n",
    "PATH = './results/real_data/'\n",
    "\n",
    "device = torch.device('cuda:0' if torch.cuda.is_available() else 'cpu')\n",
    "# device = 'cpu'\n",
    "\n",
    "print(device)"
   ]
  },
  {
   "cell_type": "markdown",
   "metadata": {},
   "source": [
    "## Auxiliary functions"
   ]
  },
  {
   "cell_type": "code",
   "execution_count": 19,
   "metadata": {},
   "outputs": [],
   "source": [
    "def get_best_err(err):\n",
    "    mean_err = np.mean(err, axis=1)\n",
    "    std = np.std(err, axis=1)\n",
    "    best_epochs_mean = np.argmin(mean_err, axis=2)\n",
    "    best_mean_err = np.zeros((len(N_P), len(Exps)))\n",
    "    best_std = np.zeros((len(N_P), len(Exps)))\n",
    "    for i in range(len(N_P)):\n",
    "        for j in range(len(Exps)):\n",
    "            best_mean_err[i, j] = mean_err[i, j, best_epochs_mean[i, j]]\n",
    "            best_std[i, j] = std[i, j, best_epochs_mean[i, j]]\n",
    "\n",
    "    return best_mean_err, best_std, best_epochs_mean,\n",
    "\n",
    "def print_err(err, std, weights):\n",
    "    print('N_P:', N_P)\n",
    "    for j, exp in enumerate(Exps):\n",
    "        text = '{} ({}): '.format(exp['legend'], weights[j])\n",
    "        for i, n_p in enumerate(N_P):\n",
    "            text += '\\t{:.4f} +- {:.4f}'.format(err[i, j], std[i, j]) \n",
    "        print(text)\n",
    "\n",
    "def print_err_all0(labels):\n",
    "    x_zero = np.zeros(labels.shape[0])\n",
    "    err = np.zeros(np.unique(labels).shape[0])\n",
    "    for label in labels:\n",
    "        x = np.where(labels == label, 1, 0)\n",
    "        err[label-1] = np.sum(x != x_zero)/labels.shape[0]\n",
    "\n",
    "    print('Err per label:', err)\n",
    "    print('Mean Err:', np.mean(err))\n",
    "\n",
    "def compute_matrices(Exps, plot_clts=False):\n",
    "    for exp in Exps:\n",
    "        if exp['type'] == 'DD' and exp['legend'] == 'GD':\n",
    "            clt = MultiResGraphClustering(G, exp['nodes'], exp['nodes'][0], link_fun='average')\n",
    "            exp['nodes'] = clt.sizes\n",
    "            exp['Us'] = clt.Us\n",
    "            exp['As'] = clt.As\n",
    "\n",
    "            if plot_clts:\n",
    "                clt.plot_labels()\n",
    "\n",
    "        elif exp['type'] == 'DD' and exp['legend'] == 'GCG':\n",
    "            H = utils.create_filter(S, exp['h_params'])\n",
    "            exp['Us'] =[H]*(len(exp['nodes'])-2) + [None]\n",
    "            exp['As'] = []\n",
    "\n",
    "        elif exp['type'] == 'UNROLLING':\n",
    "            G_nx = nx.from_numpy_array(S) \n",
    "            adj = nx.adjacency_matrix(G_nx, nodelist=sorted(G_nx.nodes)).astype(float)\n",
    "            exp['adj'] = utils.to_torch_sparse(adj.astype(np.float32)) \n",
    "            if 'GUTF' in exp['arch']:\n",
    "                G_nx = nx.from_numpy_array(np.sqrt(A))\n",
    "                Delta = nx.linalg.graphmatrix.incidence_matrix(G_nx).todense().T\n",
    "                exp['Delta'] = torch.Tensor(Delta).to(device)\n",
    "            else:\n",
    "                exp['Delta'] = None\n",
    "\n",
    "def denoise_signals(labels, n_signals, Exps, epochs, lr):\n",
    "    unique_labels = np.unique(labels)\n",
    "    print('Labels:', unique_labels)\n",
    "    n_labels = len(unique_labels)\n",
    "\n",
    "    err = np.zeros((len(N_P), n_labels*n_signals, len(Exps), epochs))\n",
    "    weights = np.zeros(len(Exps))\n",
    "    for i, n_p in enumerate(N_P):\n",
    "        print('Noise:', n_p)\n",
    "\n",
    "        for l, label in enumerate(unique_labels):\n",
    "            x = np.zeros(G.N)\n",
    "            x[labels == label] = 1\n",
    "\n",
    "            for j in range(n_signals):\n",
    "                idx = l*n_signals + j\n",
    "                x_n = ds.GraphSignal.add_bernoulli_noise(x, n_p)\n",
    "\n",
    "                for k, exp in enumerate(Exps):\n",
    "                    model = select_model(exp, x_n, epochs, lr, device)\n",
    "                    if type(model) == Model:\n",
    "                        weights[k] = model.count_params()\n",
    "                        if 'adj' in exp.keys():\n",
    "                            x_n_tensor = torch.Tensor(x_n).reshape((x_n.size, 1))\n",
    "                            _, err[i, idx, k], _ = model.fit(x_n_tensor, x, class_val=True,\n",
    "                                                           device=device, adj_list=exp['adj'])\n",
    "                        else:\n",
    "                            _, err[i, idx, k], _ = model.fit(x_n, x, class_val=True, device=device)\n",
    "                    else:\n",
    "                        model.fit(x_n)\n",
    "                        _, err_non_train = model.test_classification(x)\n",
    "                        err[i, idx, k] = np.repeat(err_non_train, epochs)\n",
    "\n",
    "                print(f'({l},{j})', end=' ')\n",
    "    return err, weights"
   ]
  },
  {
   "cell_type": "markdown",
   "metadata": {},
   "source": [
    "## Load dataset (whole graph)"
   ]
  },
  {
   "cell_type": "code",
   "execution_count": 20,
   "metadata": {},
   "outputs": [
    {
     "name": "stdout",
     "output_type": "stream",
     "text": [
      "Number of nodes: 2708\n",
      "Number of edges: 10556\n",
      "Number of classes: 7\n",
      "Conn Comp: 78\n"
     ]
    }
   ],
   "source": [
    "dataset = Planetoid(root='./tmp/Cora', name='Cora')\n",
    "data = dataset[0]\n",
    "\n",
    "print(f'Number of nodes: {data.num_nodes}')\n",
    "print(f'Number of edges: {data.num_edges}')\n",
    "print(f'Number of classes: {dataset.num_classes}')\n",
    "\n",
    "A = to_dense_adj(data.edge_index).numpy()[0,:,:]\n",
    "L = np.diag(np.sum(A, axis=0)) - A\n",
    "lambdas, V = np.linalg.eigh(L)\n",
    "lambdas = np.real(lambdas)\n",
    "print('Conn Comp:', np.sum(np.abs(lambdas) <= 1e-6))\n",
    "\n",
    "labels = data.y\n",
    "\n",
    "S = A\n",
    "\n",
    "G = Graph(A)\n",
    "G.set_coordinates()\n",
    "# plt.figure()\n",
    "# G.plot_signal(labels.numpy())\n",
    "# plt.title('Original graph')\n"
   ]
  },
  {
   "cell_type": "markdown",
   "metadata": {},
   "source": [
    "## Set the expetiments"
   ]
  },
  {
   "cell_type": "code",
   "execution_count": 21,
   "metadata": {},
   "outputs": [],
   "source": [
    "N_P = [.3]\n",
    "\n",
    "# Model parameters\n",
    "epochs =  500\n",
    "lr = 0.001\n",
    "loss = nn.MSELoss\n",
    "\n",
    "Exps = [\n",
    "        # {'type': 'BL', 'S': A, 'alpha': .05, 'legend': 'BL'},\n",
    "        # {'type': 'TV', 'A': A, 'alpha': 5, 'legend': 'TV'},        \n",
    "        # {'type': 'LR', 'L': L, 'alpha': 15, 'legend': 'LR'},\n",
    "        # {'type': 'GTF', 'A': A, 'k': 3, 'lamb': .25, 'legend': 'GTF'},\n",
    "\n",
    "        # # Non-convex\n",
    "        # {'type': 'MED', 'S': A, 'legend': 'MED'},\n",
    "        # {'type': 'GCNN', 'fts': 75, 'A': A, 'last_fts': 1, 'last_act': nn.Sigmoid(),\n",
    "        #  'loss': loss(reduction='none'), 'legend': 'GCNN'},\n",
    "        # {'type': 'GAT', 'fts': 70, 'A': A, 'heads': 3, 'last_fts': 1, 'last_act': nn.Sigmoid(),\n",
    "        #  'loss': loss(reduction='none'), 'legend': 'GAT'},\n",
    "        # {'type': 'KronAE', 'fts': 50, 'A': A, 'r': .5, 'last_act': nn.Sigmoid(),\n",
    "        #  'loss': loss(reduction='none'), 'legend': 'K-GAE'},\n",
    "\n",
    "        # Our models\n",
    "        {'type': 'DD', 'ups': Ups.U_MAT, 'nodes': [G.N]*4, 'fts': [100]*3 + [1],\n",
    "         'af': nn.ReLU(), 'laf':  nn.Sigmoid(), 'w_std': 1, 'in_std': 1, 'bn': False,\n",
    "         'h_params': {'type': 'FixedH', 'S': 'A', 'hs': [.3, .5, .2], 'H_norm': False},\n",
    "         'loss': loss(reduction='none'), 'legend': 'GCG'},\n",
    "        {'type': 'DD', 'ups': Ups.U_MEAN, 'nodes': [300, 1000, 1600, 2000] + [G.N]*2, 'fts': [50]*5 + [1],\n",
    "         'af': nn.ReLU(), 'laf':  nn.Sigmoid(), 'w_std': 1, 'in_std': .5, 'bn': False, 'gamma': 0, \n",
    "         'loss': loss(reduction='none'), 'legend': 'GD'},\n",
    "\n",
    "        # Unrolling\n",
    "        # {'type': 'UNROLLING', 'arch': 'GUSC', 'fts': 64, 'dropout': 0, 'bin': True, 'legend': 'GUSC'},\n",
    "        # {'type': 'UNROLLING', 'arch': 'GUSC', 'fts': 64, 'dropout': 0, 'bin': False, 'legend': 'GUSC'},\n",
    "        # {'type': 'UNROLLING', 'arch': 'GUSC_2', 'fts': 50, 'dropout': 0, 'bin': True, 'legend': 'GUSC_2'},\n",
    "        # {'type': 'UNROLLING', 'arch': 'GUSC_4', 'fts': 50, 'dropout': 0, 'bin': True, 'legend': 'GUSC_2'},\n",
    "\n",
    "        # {'type': 'UNROLLING', 'arch': 'GUTF', 'fts': 64, 'dropout': 0, 'legend': 'GUTF'},\n",
    "        # {'type': 'UNROLLING', 'arch': 'GUTF_2', 'fts': 50, 'dropout': 0, 'legend': 'GUTF_2'},\n",
    "        ]\n",
    "\n",
    "legend = [exp['legend'] for _, exp in enumerate(Exps)]\n",
    "\n",
    "compute_matrices(Exps)\n"
   ]
  },
  {
   "cell_type": "markdown",
   "metadata": {},
   "source": [
    "## Denoising signals (whole graph)"
   ]
  },
  {
   "cell_type": "code",
   "execution_count": 22,
   "metadata": {
    "scrolled": true
   },
   "outputs": [
    {
     "name": "stdout",
     "output_type": "stream",
     "text": [
      "Labels: [0 1 2 3 4 5 6]\n",
      "Noise: 0.3\n",
      "Changed labels: 0.29763663220088626\n",
      "(0,0) Changed labels: 0.2935745937961595\n",
      "(0,1) Changed labels: 0.3072378138847858\n",
      "(0,2) Changed labels: 0.3068685376661743\n",
      "(0,3) Changed labels: 0.2928360413589365\n",
      "(0,4) Changed labels: 0.29209748892171344\n",
      "(1,0) Changed labels: 0.2935745937961595\n",
      "(1,1) Changed labels: 0.2961595273264402\n",
      "(1,2) Changed labels: 0.3053914327917282\n",
      "(1,3) Changed labels: 0.29209748892171344\n",
      "(1,4) Changed labels: 0.30280649926144754\n",
      "(2,0) Changed labels: 0.30243722304283605\n",
      "(2,1) Changed labels: 0.2972673559822747\n",
      "(2,2) Changed labels: 0.3020679468242245\n",
      "(2,3) Changed labels: 0.30797636632200887\n",
      "(2,4) Changed labels: 0.2972673559822747\n",
      "(3,0) Changed labels: 0.2998522895125554\n",
      "(3,1) Changed labels: 0.2902511078286558\n",
      "(3,2) Changed labels: 0.2928360413589365\n",
      "(3,3) Changed labels: 0.30945347119645494\n",
      "(3,4) Changed labels: 0.30945347119645494\n",
      "(4,0) Changed labels: 0.29542097488921715\n",
      "(4,1) Changed labels: 0.31166912850812406\n",
      "(4,2) Changed labels: 0.2972673559822747\n",
      "(4,3) Changed labels: 0.2935745937961595\n",
      "(4,4) Changed labels: 0.2972673559822747\n",
      "(5,0) Changed labels: 0.3153618906942393\n",
      "(5,1) Changed labels: 0.29911373707533234\n",
      "(5,2) Changed labels: 0.2961595273264402\n",
      "(5,3) Changed labels: 0.30132939438700146\n",
      "(5,4) Changed labels: 0.29431314623338256\n",
      "(6,0) Changed labels: 0.29098966026587886\n",
      "(6,1) Changed labels: 0.30096011816838997\n",
      "(6,2) Changed labels: 0.31462333825701627\n",
      "(6,3) Changed labels: 0.30834564254062036\n",
      "(6,4) \n",
      "--- 3.028395930926005 minutes ---\n"
     ]
    }
   ],
   "source": [
    "n_signals = 25\n",
    "\n",
    "start_time = time.time()\n",
    "err, weights = denoise_signals(labels, n_signals, Exps, epochs, lr)\n",
    "print('\\n--- {} minutes ---'.format((time.time()-start_time)/60))"
   ]
  },
  {
   "cell_type": "markdown",
   "metadata": {},
   "source": [
    "### Plot results"
   ]
  },
  {
   "cell_type": "code",
   "execution_count": 23,
   "metadata": {
    "scrolled": true
   },
   "outputs": [
    {
     "name": "stdout",
     "output_type": "stream",
     "text": [
      "Err per label: [0.08013294 0.15435746 0.30206795 0.15731167 0.11004431 0.06646972\n",
      " 0.12961595]\n",
      "Mean Err: 0.14285714285714285\n",
      "N_P: [0.3]\n",
      "GCG (20100.0): \t0.0901 +- 0.0453\n"
     ]
    }
   ],
   "source": [
    "best_mean_err, std, _ = get_best_err(err)\n",
    "print_err_all0(labels)\n",
    "print_err(best_mean_err, std, weights)"
   ]
  },
  {
   "cell_type": "markdown",
   "metadata": {},
   "source": [
    "## Considering main connected component"
   ]
  },
  {
   "cell_type": "code",
   "execution_count": 7,
   "metadata": {},
   "outputs": [
    {
     "name": "stdout",
     "output_type": "stream",
     "text": [
      "Number of nodes: 2485\n",
      "Number of edges: 5069\n",
      "Number of classes: 7\n",
      "Conn Comp: 1\n"
     ]
    },
    {
     "data": {
      "text/plain": [
       "Text(0.5, 1.0, 'Original graph')"
      ]
     },
     "execution_count": 7,
     "metadata": {},
     "output_type": "execute_result"
    },
    {
     "data": {
      "text/plain": [
       "<Figure size 432x288 with 0 Axes>"
      ]
     },
     "metadata": {},
     "output_type": "display_data"
    },
    {
     "data": {
      "image/png": "[encoded data removed]",
      "text/plain": [
       "<Figure size 432x288 with 2 Axes>"
      ]
     },
     "metadata": {
      "needs_background": "light"
     },
     "output_type": "display_data"
    }
   ],
   "source": [
    "A_whole = to_dense_adj(data.edge_index).numpy()[0,:,:]\n",
    "G_whole = nx.to_networkx_graph(A_whole)\n",
    "nodes_cc = list(max(nx.connected_components(G_whole), key=len))\n",
    "G_cc = G_whole.subgraph(nodes_cc).copy()\n",
    "\n",
    "print(f'Number of nodes: {G_cc.number_of_nodes()}')\n",
    "print(f'Number of edges: {G_cc.number_of_edges()}')\n",
    "print(f'Number of classes: {dataset.num_classes}')\n",
    "\n",
    "A = nx.to_numpy_array(G_cc)\n",
    "L = np.diag(np.sum(A, axis=0)) - A\n",
    "lambdas, V = np.linalg.eigh(L)\n",
    "lambdas = np.real(lambdas)\n",
    "print('Conn Comp:', np.sum(np.abs(lambdas) <= 1e-6))\n",
    "\n",
    "labels = data.y[nodes_cc]\n",
    "\n",
    "S = A\n",
    "\n",
    "G = Graph(A)\n",
    "G.set_coordinates()\n",
    "plt.figure()\n",
    "G.plot_signal(labels.numpy())\n",
    "plt.title('Original graph')\n"
   ]
  },
  {
   "cell_type": "markdown",
   "metadata": {},
   "source": [
    "### Set the expetiments"
   ]
  },
  {
   "cell_type": "code",
   "execution_count": 8,
   "metadata": {},
   "outputs": [],
   "source": [
    "N_P = [.3]\n",
    "\n",
    "# Model parameters\n",
    "epochs =  500\n",
    "lr = 0.001\n",
    "loss = nn.MSELoss\n",
    "\n",
    "Exps = [\n",
    "        # {'type': 'BL', 'S': A, 'alpha': .05, 'legend': 'BL'},\n",
    "        # {'type': 'TV', 'A': A, 'alpha': 5, 'legend': 'TV'},        \n",
    "        # {'type': 'LR', 'L': L, 'alpha': 15, 'legend': 'LR'},\n",
    "        # {'type': 'GTF', 'A': A, 'k': 3, 'lamb': .25, 'legend': 'GTF'},\n",
    "\n",
    "        # # Non-convex\n",
    "        # {'type': 'MED', 'S': A, 'legend': 'MED'},\n",
    "        # {'type': 'GCNN', 'fts': 75, 'A': A, 'last_fts': 1, 'last_act': nn.Sigmoid(),\n",
    "        #  'loss': loss(reduction='none'), 'legend': 'GCNN'},\n",
    "        # {'type': 'GAT', 'fts': 70, 'A': A, 'heads': 3, 'last_fts': 1, 'last_act': nn.Sigmoid(),\n",
    "        #  'loss': loss(reduction='none'), 'legend': 'GAT'},\n",
    "        # {'type': 'KronAE', 'fts': 50, 'A': A, 'r': .5, 'last_act': nn.Sigmoid(),\n",
    "        #  'loss': loss(reduction='none'), 'legend': 'K-GAE'},\n",
    "\n",
    "        # Our models\n",
    "        {'type': 'DD', 'ups': Ups.U_MAT, 'nodes': [G.N]*4, 'fts': [100]*3 + [1],\n",
    "         'af': nn.ReLU(), 'laf':  nn.Sigmoid(), 'w_std': 1, 'in_std': 1, 'bn': False,\n",
    "         'h_params': {'type': 'FixedH', 'S': 'A', 'hs': [.3, .5, .2], 'H_norm': False},\n",
    "         'loss': loss(reduction='none'), 'legend': 'GCG'},\n",
    "        {'type': 'DD', 'ups': Ups.U_MEAN, 'nodes': [300, 1000, 1600, 2000] + [G.N]*2, 'fts': [50]*5 + [1],\n",
    "         'af': nn.ReLU(), 'laf':  nn.Sigmoid(), 'w_std': 1, 'in_std': .5, 'bn': False, 'gamma': 0, \n",
    "         'loss': loss(reduction='none'), 'legend': 'GD'},\n",
    "\n",
    "        # Unrolling\n",
    "        # {'type': 'UNROLLING', 'arch': 'GUSC', 'fts': 64, 'dropout': 0, 'bin': True, 'legend': 'GUSC'},\n",
    "        # {'type': 'UNROLLING', 'arch': 'GUSC', 'fts': 64, 'dropout': 0, 'bin': False, 'legend': 'GUSC'},\n",
    "        # {'type': 'UNROLLING', 'arch': 'GUSC_2', 'fts': 50, 'dropout': 0, 'bin': True, 'legend': 'GUSC_2'},\n",
    "        # {'type': 'UNROLLING', 'arch': 'GUSC_4', 'fts': 50, 'dropout': 0, 'bin': True, 'legend': 'GUSC_2'},\n",
    "\n",
    "        # {'type': 'UNROLLING', 'arch': 'GUTF', 'fts': 64, 'dropout': 0, 'legend': 'GUTF'},\n",
    "        # {'type': 'UNROLLING', 'arch': 'GUTF_2', 'fts': 50, 'dropout': 0, 'legend': 'GUTF_2'},\n",
    "        ]\n",
    "\n",
    "legend = [exp['legend'] for _, exp in enumerate(Exps)]\n",
    "\n",
    "compute_matrices(Exps)\n"
   ]
  },
  {
   "cell_type": "code",
   "execution_count": 9,
   "metadata": {
    "scrolled": true
   },
   "outputs": [
    {
     "name": "stdout",
     "output_type": "stream",
     "text": [
      "Labels: [0 1 2 3 4 5 6]\n",
      "Noise: 0.3\n",
      "(0,0) (0,1) (0,2) (0,3) (0,4) (0,5) (0,6) (0,7) (0,8) (0,9) (0,10) (0,11) (0,12) (0,13) (0,14) (0,15) (0,16) (0,17) (0,18) (0,19) (0,20) (0,21) (0,22) (0,23) (0,24) (1,0) (1,1) (1,2) (1,3) (1,4) (1,5) (1,6) (1,7) (1,8) (1,9) (1,10) (1,11) (1,12) (1,13) (1,14) (1,15) (1,16) (1,17) (1,18) (1,19) (1,20) (1,21) (1,22) (1,23) (1,24) (2,0) (2,1) (2,2) (2,3) (2,4) (2,5) (2,6) (2,7) (2,8) (2,9) (2,10) (2,11) (2,12) (2,13) (2,14) (2,15) (2,16) (2,17) (2,18) (2,19) (2,20) (2,21) (2,22) (2,23) (2,24) (3,0) (3,1) (3,2) (3,3) (3,4) (3,5) (3,6) (3,7) (3,8) (3,9) (3,10) (3,11) (3,12) (3,13) (3,14) (3,15) (3,16) (3,17) (3,18) (3,19) "
     ]
    },
    {
     "ename": "KeyboardInterrupt",
     "evalue": "",
     "output_type": "error",
     "traceback": [
      "\u001b[1;31m---------------------------------------------------------------------------\u001b[0m",
      "\u001b[1;31mKeyboardInterrupt\u001b[0m                         Traceback (most recent call last)",
      "\u001b[1;32m<ipython-input-9-12be9309ece7>\u001b[0m in \u001b[0;36m<module>\u001b[1;34m\u001b[0m\n\u001b[0;32m      2\u001b[0m \u001b[1;33m\u001b[0m\u001b[0m\n\u001b[0;32m      3\u001b[0m \u001b[0mstart_time\u001b[0m \u001b[1;33m=\u001b[0m \u001b[0mtime\u001b[0m\u001b[1;33m.\u001b[0m\u001b[0mtime\u001b[0m\u001b[1;33m(\u001b[0m\u001b[1;33m)\u001b[0m\u001b[1;33m\u001b[0m\u001b[1;33m\u001b[0m\u001b[0m\n\u001b[1;32m----> 4\u001b[1;33m \u001b[0merr2\u001b[0m\u001b[1;33m,\u001b[0m \u001b[0mweights2\u001b[0m \u001b[1;33m=\u001b[0m \u001b[0mdenoise_signals\u001b[0m\u001b[1;33m(\u001b[0m\u001b[0mlabels\u001b[0m\u001b[1;33m,\u001b[0m \u001b[0mn_signals\u001b[0m\u001b[1;33m,\u001b[0m \u001b[0mExps\u001b[0m\u001b[1;33m,\u001b[0m \u001b[0mepochs\u001b[0m\u001b[1;33m,\u001b[0m \u001b[0mlr\u001b[0m\u001b[1;33m)\u001b[0m\u001b[1;33m\u001b[0m\u001b[1;33m\u001b[0m\u001b[0m\n\u001b[0m\u001b[0;32m      5\u001b[0m \u001b[0mprint\u001b[0m\u001b[1;33m(\u001b[0m\u001b[1;34m'\\n--- {} minutes ---'\u001b[0m\u001b[1;33m.\u001b[0m\u001b[0mformat\u001b[0m\u001b[1;33m(\u001b[0m\u001b[1;33m(\u001b[0m\u001b[0mtime\u001b[0m\u001b[1;33m.\u001b[0m\u001b[0mtime\u001b[0m\u001b[1;33m(\u001b[0m\u001b[1;33m)\u001b[0m\u001b[1;33m-\u001b[0m\u001b[0mstart_time\u001b[0m\u001b[1;33m)\u001b[0m\u001b[1;33m/\u001b[0m\u001b[1;36m60\u001b[0m\u001b[1;33m)\u001b[0m\u001b[1;33m)\u001b[0m\u001b[1;33m\u001b[0m\u001b[1;33m\u001b[0m\u001b[0m\n",
      "\u001b[1;32m<ipython-input-2-4d9f0ec57f38>\u001b[0m in \u001b[0;36mdenoise_signals\u001b[1;34m(labels, n_signals, Exps, epochs, lr)\u001b[0m\n\u001b[0;32m     81\u001b[0m                         \u001b[1;32mif\u001b[0m \u001b[1;34m'adj'\u001b[0m \u001b[1;32min\u001b[0m \u001b[0mexp\u001b[0m\u001b[1;33m.\u001b[0m\u001b[0mkeys\u001b[0m\u001b[1;33m(\u001b[0m\u001b[1;33m)\u001b[0m\u001b[1;33m:\u001b[0m\u001b[1;33m\u001b[0m\u001b[1;33m\u001b[0m\u001b[0m\n\u001b[0;32m     82\u001b[0m                             \u001b[0mx_n_tensor\u001b[0m \u001b[1;33m=\u001b[0m \u001b[0mtorch\u001b[0m\u001b[1;33m.\u001b[0m\u001b[0mTensor\u001b[0m\u001b[1;33m(\u001b[0m\u001b[0mx_n\u001b[0m\u001b[1;33m)\u001b[0m\u001b[1;33m.\u001b[0m\u001b[0mreshape\u001b[0m\u001b[1;33m(\u001b[0m\u001b[1;33m(\u001b[0m\u001b[0mx_n\u001b[0m\u001b[1;33m.\u001b[0m\u001b[0msize\u001b[0m\u001b[1;33m,\u001b[0m \u001b[1;36m1\u001b[0m\u001b[1;33m)\u001b[0m\u001b[1;33m)\u001b[0m\u001b[1;33m\u001b[0m\u001b[1;33m\u001b[0m\u001b[0m\n\u001b[1;32m---> 83\u001b[1;33m                             _, err[i, j, k], _ = model.fit(x_n_tensor, x, class_val=True,\n\u001b[0m\u001b[0;32m     84\u001b[0m                                                            device=device, adj_list=exp['adj'])\n\u001b[0;32m     85\u001b[0m                         \u001b[1;32melse\u001b[0m\u001b[1;33m:\u001b[0m\u001b[1;33m\u001b[0m\u001b[1;33m\u001b[0m\u001b[0m\n",
      "\u001b[1;32mc:\\Users\\Samuel\\OneDrive - Universidad Rey Juan Carlos\\Investigacion\\Graph_Deep_Decoder\\graph_deep_decoder\\model.py\u001b[0m in \u001b[0;36mfit\u001b[1;34m(self, signal, x, reduce_err, class_val, device, adj_list)\u001b[0m\n\u001b[0;32m     89\u001b[0m             \u001b[1;32melse\u001b[0m\u001b[1;33m:\u001b[0m\u001b[1;33m\u001b[0m\u001b[1;33m\u001b[0m\u001b[0m\n\u001b[0;32m     90\u001b[0m                 \u001b[1;31m# IN UNROLLING\u001b[0m\u001b[1;33m\u001b[0m\u001b[1;33m\u001b[0m\u001b[1;33m\u001b[0m\u001b[0m\n\u001b[1;32m---> 91\u001b[1;33m                 \u001b[0mx_hat\u001b[0m \u001b[1;33m=\u001b[0m \u001b[0mself\u001b[0m\u001b[1;33m.\u001b[0m\u001b[0march\u001b[0m\u001b[1;33m(\u001b[0m\u001b[0mx_n\u001b[0m\u001b[1;33m,\u001b[0m \u001b[0madj_list\u001b[0m\u001b[1;33m)\u001b[0m\u001b[1;33m\u001b[0m\u001b[1;33m\u001b[0m\u001b[0m\n\u001b[0m\u001b[0;32m     92\u001b[0m                 \u001b[1;32mif\u001b[0m \u001b[0mx_hat\u001b[0m\u001b[1;33m.\u001b[0m\u001b[0mdim\u001b[0m\u001b[1;33m(\u001b[0m\u001b[1;33m)\u001b[0m \u001b[1;33m==\u001b[0m \u001b[1;36m3\u001b[0m\u001b[1;33m:\u001b[0m\u001b[1;33m\u001b[0m\u001b[1;33m\u001b[0m\u001b[0m\n\u001b[0;32m     93\u001b[0m                     \u001b[0mx_hat\u001b[0m \u001b[1;33m=\u001b[0m \u001b[0mx_hat\u001b[0m\u001b[1;33m[\u001b[0m\u001b[1;33m:\u001b[0m\u001b[1;33m,\u001b[0m \u001b[1;36m0\u001b[0m\u001b[1;33m,\u001b[0m \u001b[1;33m:\u001b[0m\u001b[1;33m]\u001b[0m\u001b[1;33m\u001b[0m\u001b[1;33m\u001b[0m\u001b[0m\n",
      "\u001b[1;32mc:\\Users\\Samuel\\anaconda3\\envs\\gsp_env_20220713\\lib\\site-packages\\torch\\nn\\modules\\module.py\u001b[0m in \u001b[0;36m_call_impl\u001b[1;34m(self, *input, **kwargs)\u001b[0m\n\u001b[0;32m   1100\u001b[0m         if not (self._backward_hooks or self._forward_hooks or self._forward_pre_hooks or _global_backward_hooks\n\u001b[0;32m   1101\u001b[0m                 or _global_forward_hooks or _global_forward_pre_hooks):\n\u001b[1;32m-> 1102\u001b[1;33m             \u001b[1;32mreturn\u001b[0m \u001b[0mforward_call\u001b[0m\u001b[1;33m(\u001b[0m\u001b[1;33m*\u001b[0m\u001b[0minput\u001b[0m\u001b[1;33m,\u001b[0m \u001b[1;33m**\u001b[0m\u001b[0mkwargs\u001b[0m\u001b[1;33m)\u001b[0m\u001b[1;33m\u001b[0m\u001b[1;33m\u001b[0m\u001b[0m\n\u001b[0m\u001b[0;32m   1103\u001b[0m         \u001b[1;31m# Do not call functions when jit is used\u001b[0m\u001b[1;33m\u001b[0m\u001b[1;33m\u001b[0m\u001b[1;33m\u001b[0m\u001b[0m\n\u001b[0;32m   1104\u001b[0m         \u001b[0mfull_backward_hooks\u001b[0m\u001b[1;33m,\u001b[0m \u001b[0mnon_full_backward_hooks\u001b[0m \u001b[1;33m=\u001b[0m \u001b[1;33m[\u001b[0m\u001b[1;33m]\u001b[0m\u001b[1;33m,\u001b[0m \u001b[1;33m[\u001b[0m\u001b[1;33m]\u001b[0m\u001b[1;33m\u001b[0m\u001b[1;33m\u001b[0m\u001b[0m\n",
      "\u001b[1;32mc:\\Users\\Samuel\\OneDrive - Universidad Rey Juan Carlos\\Investigacion\\Graph_Deep_Decoder\\GUN\\models.py\u001b[0m in \u001b[0;36mforward\u001b[1;34m(self, x, adj)\u001b[0m\n\u001b[0;32m    535\u001b[0m         \u001b[0mx\u001b[0m \u001b[1;33m=\u001b[0m \u001b[0msoft_thresholding\u001b[0m\u001b[1;33m(\u001b[0m\u001b[0mx\u001b[0m\u001b[1;33m)\u001b[0m\u001b[1;33m\u001b[0m\u001b[1;33m\u001b[0m\u001b[0m\n\u001b[0;32m    536\u001b[0m         \u001b[0mx\u001b[0m \u001b[1;33m=\u001b[0m \u001b[0mself\u001b[0m\u001b[1;33m.\u001b[0m\u001b[0mdropout\u001b[0m\u001b[1;33m(\u001b[0m\u001b[0mx\u001b[0m\u001b[1;33m)\u001b[0m\u001b[1;33m\u001b[0m\u001b[1;33m\u001b[0m\u001b[0m\n\u001b[1;32m--> 537\u001b[1;33m         \u001b[0mx\u001b[0m \u001b[1;33m=\u001b[0m \u001b[0mself\u001b[0m\u001b[1;33m.\u001b[0m\u001b[0mgac2\u001b[0m\u001b[1;33m(\u001b[0m\u001b[0mx\u001b[0m\u001b[1;33m,\u001b[0m \u001b[0madj\u001b[0m\u001b[1;33m)\u001b[0m \u001b[1;33m+\u001b[0m \u001b[0mself\u001b[0m\u001b[1;33m.\u001b[0m\u001b[0mgac3\u001b[0m\u001b[1;33m(\u001b[0m\u001b[0moriginal_input\u001b[0m\u001b[1;33m,\u001b[0m \u001b[0madj\u001b[0m\u001b[1;33m)\u001b[0m\u001b[1;33m\u001b[0m\u001b[1;33m\u001b[0m\u001b[0m\n\u001b[0m\u001b[0;32m    538\u001b[0m         \u001b[1;31m#x = self.relu(x)\u001b[0m\u001b[1;33m\u001b[0m\u001b[1;33m\u001b[0m\u001b[1;33m\u001b[0m\u001b[0m\n\u001b[0;32m    539\u001b[0m         \u001b[0mx\u001b[0m \u001b[1;33m=\u001b[0m \u001b[0msoft_thresholding\u001b[0m\u001b[1;33m(\u001b[0m\u001b[0mx\u001b[0m\u001b[1;33m)\u001b[0m\u001b[1;33m\u001b[0m\u001b[1;33m\u001b[0m\u001b[0m\n",
      "\u001b[1;32mc:\\Users\\Samuel\\anaconda3\\envs\\gsp_env_20220713\\lib\\site-packages\\torch\\nn\\modules\\module.py\u001b[0m in \u001b[0;36m_call_impl\u001b[1;34m(self, *input, **kwargs)\u001b[0m\n\u001b[0;32m   1100\u001b[0m         if not (self._backward_hooks or self._forward_hooks or self._forward_pre_hooks or _global_backward_hooks\n\u001b[0;32m   1101\u001b[0m                 or _global_forward_hooks or _global_forward_pre_hooks):\n\u001b[1;32m-> 1102\u001b[1;33m             \u001b[1;32mreturn\u001b[0m \u001b[0mforward_call\u001b[0m\u001b[1;33m(\u001b[0m\u001b[1;33m*\u001b[0m\u001b[0minput\u001b[0m\u001b[1;33m,\u001b[0m \u001b[1;33m**\u001b[0m\u001b[0mkwargs\u001b[0m\u001b[1;33m)\u001b[0m\u001b[1;33m\u001b[0m\u001b[1;33m\u001b[0m\u001b[0m\n\u001b[0m\u001b[0;32m   1103\u001b[0m         \u001b[1;31m# Do not call functions when jit is used\u001b[0m\u001b[1;33m\u001b[0m\u001b[1;33m\u001b[0m\u001b[1;33m\u001b[0m\u001b[0m\n\u001b[0;32m   1104\u001b[0m         \u001b[0mfull_backward_hooks\u001b[0m\u001b[1;33m,\u001b[0m \u001b[0mnon_full_backward_hooks\u001b[0m \u001b[1;33m=\u001b[0m \u001b[1;33m[\u001b[0m\u001b[1;33m]\u001b[0m\u001b[1;33m,\u001b[0m \u001b[1;33m[\u001b[0m\u001b[1;33m]\u001b[0m\u001b[1;33m\u001b[0m\u001b[1;33m\u001b[0m\u001b[0m\n",
      "\u001b[1;32mc:\\Users\\Samuel\\OneDrive - Universidad Rey Juan Carlos\\Investigacion\\Graph_Deep_Decoder\\GUN\\layers.py\u001b[0m in \u001b[0;36mforward\u001b[1;34m(self, input, adj)\u001b[0m\n\u001b[0;32m    452\u001b[0m         \u001b[0mn\u001b[0m \u001b[1;33m=\u001b[0m \u001b[0mlen\u001b[0m\u001b[1;33m(\u001b[0m\u001b[0minput\u001b[0m\u001b[1;33m)\u001b[0m\u001b[1;33m\u001b[0m\u001b[1;33m\u001b[0m\u001b[0m\n\u001b[0;32m    453\u001b[0m         \u001b[0malpha\u001b[0m \u001b[1;33m=\u001b[0m \u001b[0msoftmax\u001b[0m\u001b[1;33m(\u001b[0m\u001b[0malpha\u001b[0m\u001b[1;33m,\u001b[0m \u001b[0medge\u001b[0m\u001b[1;33m[\u001b[0m\u001b[1;36m0\u001b[0m\u001b[1;33m]\u001b[0m\u001b[1;33m,\u001b[0m \u001b[0mn\u001b[0m\u001b[1;33m)\u001b[0m \u001b[1;31m# it seems softmax is still important, any other normalization mechanism?\u001b[0m\u001b[1;33m\u001b[0m\u001b[1;33m\u001b[0m\u001b[0m\n\u001b[1;32m--> 454\u001b[1;33m         \u001b[0moutput\u001b[0m \u001b[1;33m=\u001b[0m \u001b[0mspmm\u001b[0m\u001b[1;33m(\u001b[0m\u001b[0medge\u001b[0m\u001b[1;33m,\u001b[0m \u001b[0malpha\u001b[0m\u001b[1;33m,\u001b[0m \u001b[0mn\u001b[0m\u001b[1;33m,\u001b[0m \u001b[0mn\u001b[0m\u001b[1;33m,\u001b[0m \u001b[0mh\u001b[0m\u001b[1;33m)\u001b[0m \u001b[1;31m# h_prime: N x out\u001b[0m\u001b[1;33m\u001b[0m\u001b[1;33m\u001b[0m\u001b[0m\n\u001b[0m\u001b[0;32m    455\u001b[0m         \u001b[1;31m# output = spmm(edge, self.dropout(alpha), n, n, self.dropout(h)) # h_prime: N x out\u001b[0m\u001b[1;33m\u001b[0m\u001b[1;33m\u001b[0m\u001b[1;33m\u001b[0m\u001b[0m\n\u001b[0;32m    456\u001b[0m         \u001b[1;32mif\u001b[0m \u001b[0mself\u001b[0m\u001b[1;33m.\u001b[0m\u001b[0mbias\u001b[0m \u001b[1;32mis\u001b[0m \u001b[1;32mnot\u001b[0m \u001b[1;32mNone\u001b[0m\u001b[1;33m:\u001b[0m\u001b[1;33m\u001b[0m\u001b[1;33m\u001b[0m\u001b[0m\n",
      "\u001b[1;32mc:\\Users\\Samuel\\anaconda3\\envs\\gsp_env_20220713\\lib\\site-packages\\torch_sparse\\spmm.py\u001b[0m in \u001b[0;36mspmm\u001b[1;34m(index, value, m, n, matrix)\u001b[0m\n\u001b[0;32m     24\u001b[0m     \u001b[0mout\u001b[0m \u001b[1;33m=\u001b[0m \u001b[0mmatrix\u001b[0m\u001b[1;33m.\u001b[0m\u001b[0mindex_select\u001b[0m\u001b[1;33m(\u001b[0m\u001b[1;33m-\u001b[0m\u001b[1;36m2\u001b[0m\u001b[1;33m,\u001b[0m \u001b[0mcol\u001b[0m\u001b[1;33m)\u001b[0m\u001b[1;33m\u001b[0m\u001b[1;33m\u001b[0m\u001b[0m\n\u001b[0;32m     25\u001b[0m     \u001b[0mout\u001b[0m \u001b[1;33m=\u001b[0m \u001b[0mout\u001b[0m \u001b[1;33m*\u001b[0m \u001b[0mvalue\u001b[0m\u001b[1;33m.\u001b[0m\u001b[0munsqueeze\u001b[0m\u001b[1;33m(\u001b[0m\u001b[1;33m-\u001b[0m\u001b[1;36m1\u001b[0m\u001b[1;33m)\u001b[0m\u001b[1;33m\u001b[0m\u001b[1;33m\u001b[0m\u001b[0m\n\u001b[1;32m---> 26\u001b[1;33m     \u001b[0mout\u001b[0m \u001b[1;33m=\u001b[0m \u001b[0mscatter_add\u001b[0m\u001b[1;33m(\u001b[0m\u001b[0mout\u001b[0m\u001b[1;33m,\u001b[0m \u001b[0mrow\u001b[0m\u001b[1;33m,\u001b[0m \u001b[0mdim\u001b[0m\u001b[1;33m=\u001b[0m\u001b[1;33m-\u001b[0m\u001b[1;36m2\u001b[0m\u001b[1;33m,\u001b[0m \u001b[0mdim_size\u001b[0m\u001b[1;33m=\u001b[0m\u001b[0mm\u001b[0m\u001b[1;33m)\u001b[0m\u001b[1;33m\u001b[0m\u001b[1;33m\u001b[0m\u001b[0m\n\u001b[0m\u001b[0;32m     27\u001b[0m \u001b[1;33m\u001b[0m\u001b[0m\n\u001b[0;32m     28\u001b[0m     \u001b[1;32mreturn\u001b[0m \u001b[0mout\u001b[0m\u001b[1;33m\u001b[0m\u001b[1;33m\u001b[0m\u001b[0m\n",
      "\u001b[1;32mc:\\Users\\Samuel\\anaconda3\\envs\\gsp_env_20220713\\lib\\site-packages\\torch_scatter\\scatter.py\u001b[0m in \u001b[0;36mscatter_add\u001b[1;34m(src, index, dim, out, dim_size)\u001b[0m\n\u001b[0;32m     27\u001b[0m                 \u001b[0mout\u001b[0m\u001b[1;33m:\u001b[0m \u001b[0mOptional\u001b[0m\u001b[1;33m[\u001b[0m\u001b[0mtorch\u001b[0m\u001b[1;33m.\u001b[0m\u001b[0mTensor\u001b[0m\u001b[1;33m]\u001b[0m \u001b[1;33m=\u001b[0m \u001b[1;32mNone\u001b[0m\u001b[1;33m,\u001b[0m\u001b[1;33m\u001b[0m\u001b[1;33m\u001b[0m\u001b[0m\n\u001b[0;32m     28\u001b[0m                 dim_size: Optional[int] = None) -> torch.Tensor:\n\u001b[1;32m---> 29\u001b[1;33m     \u001b[1;32mreturn\u001b[0m \u001b[0mscatter_sum\u001b[0m\u001b[1;33m(\u001b[0m\u001b[0msrc\u001b[0m\u001b[1;33m,\u001b[0m \u001b[0mindex\u001b[0m\u001b[1;33m,\u001b[0m \u001b[0mdim\u001b[0m\u001b[1;33m,\u001b[0m \u001b[0mout\u001b[0m\u001b[1;33m,\u001b[0m \u001b[0mdim_size\u001b[0m\u001b[1;33m)\u001b[0m\u001b[1;33m\u001b[0m\u001b[1;33m\u001b[0m\u001b[0m\n\u001b[0m\u001b[0;32m     30\u001b[0m \u001b[1;33m\u001b[0m\u001b[0m\n\u001b[0;32m     31\u001b[0m \u001b[1;33m\u001b[0m\u001b[0m\n",
      "\u001b[1;32mc:\\Users\\Samuel\\anaconda3\\envs\\gsp_env_20220713\\lib\\site-packages\\torch_scatter\\scatter.py\u001b[0m in \u001b[0;36mscatter_sum\u001b[1;34m(src, index, dim, out, dim_size)\u001b[0m\n\u001b[0;32m     19\u001b[0m             \u001b[0msize\u001b[0m\u001b[1;33m[\u001b[0m\u001b[0mdim\u001b[0m\u001b[1;33m]\u001b[0m \u001b[1;33m=\u001b[0m \u001b[0mint\u001b[0m\u001b[1;33m(\u001b[0m\u001b[0mindex\u001b[0m\u001b[1;33m.\u001b[0m\u001b[0mmax\u001b[0m\u001b[1;33m(\u001b[0m\u001b[1;33m)\u001b[0m\u001b[1;33m)\u001b[0m \u001b[1;33m+\u001b[0m \u001b[1;36m1\u001b[0m\u001b[1;33m\u001b[0m\u001b[1;33m\u001b[0m\u001b[0m\n\u001b[0;32m     20\u001b[0m         \u001b[0mout\u001b[0m \u001b[1;33m=\u001b[0m \u001b[0mtorch\u001b[0m\u001b[1;33m.\u001b[0m\u001b[0mzeros\u001b[0m\u001b[1;33m(\u001b[0m\u001b[0msize\u001b[0m\u001b[1;33m,\u001b[0m \u001b[0mdtype\u001b[0m\u001b[1;33m=\u001b[0m\u001b[0msrc\u001b[0m\u001b[1;33m.\u001b[0m\u001b[0mdtype\u001b[0m\u001b[1;33m,\u001b[0m \u001b[0mdevice\u001b[0m\u001b[1;33m=\u001b[0m\u001b[0msrc\u001b[0m\u001b[1;33m.\u001b[0m\u001b[0mdevice\u001b[0m\u001b[1;33m)\u001b[0m\u001b[1;33m\u001b[0m\u001b[1;33m\u001b[0m\u001b[0m\n\u001b[1;32m---> 21\u001b[1;33m         \u001b[1;32mreturn\u001b[0m \u001b[0mout\u001b[0m\u001b[1;33m.\u001b[0m\u001b[0mscatter_add_\u001b[0m\u001b[1;33m(\u001b[0m\u001b[0mdim\u001b[0m\u001b[1;33m,\u001b[0m \u001b[0mindex\u001b[0m\u001b[1;33m,\u001b[0m \u001b[0msrc\u001b[0m\u001b[1;33m)\u001b[0m\u001b[1;33m\u001b[0m\u001b[1;33m\u001b[0m\u001b[0m\n\u001b[0m\u001b[0;32m     22\u001b[0m     \u001b[1;32melse\u001b[0m\u001b[1;33m:\u001b[0m\u001b[1;33m\u001b[0m\u001b[1;33m\u001b[0m\u001b[0m\n\u001b[0;32m     23\u001b[0m         \u001b[1;32mreturn\u001b[0m \u001b[0mout\u001b[0m\u001b[1;33m.\u001b[0m\u001b[0mscatter_add_\u001b[0m\u001b[1;33m(\u001b[0m\u001b[0mdim\u001b[0m\u001b[1;33m,\u001b[0m \u001b[0mindex\u001b[0m\u001b[1;33m,\u001b[0m \u001b[0msrc\u001b[0m\u001b[1;33m)\u001b[0m\u001b[1;33m\u001b[0m\u001b[1;33m\u001b[0m\u001b[0m\n",
      "\u001b[1;31mKeyboardInterrupt\u001b[0m: "
     ]
    }
   ],
   "source": [
    "n_signals = 25\n",
    "\n",
    "start_time = time.time()\n",
    "err2, weights2 = denoise_signals(labels, n_signals, Exps, epochs, lr)\n",
    "print('\\n--- {} minutes ---'.format((time.time()-start_time)/60))"
   ]
  },
  {
   "cell_type": "code",
   "execution_count": null,
   "metadata": {
    "scrolled": true
   },
   "outputs": [
    {
     "name": "stdout",
     "output_type": "stream",
     "text": [
      "Err per label: [0.0861167  0.16338028 0.29215292 0.15251509 0.11468813 0.0527163\n",
      " 0.13843058]\n",
      "Mean Err: 0.14285714285714285\n",
      "N_P: [0.3]\n",
      "BL (0.0): \t0.1503 +- 0.0534\n",
      "TV (0.0): \t0.1414 +- 0.0697\n",
      "LR (0.0): \t0.1041 +- 0.0383\n",
      "GTF (0.0): \t0.1165 +- 0.0164\n",
      "MED (0.0): \t0.1663 +- 0.0267\n",
      "GCNN (5926.0): \t0.0938 +- 0.0307\n",
      "GAT (16101.0): \t0.1383 +- 0.0642\n",
      "K-GAE (5251.0): \t0.1361 +- 0.0365\n",
      "GCG (20100.0): \t0.0888 +- 0.0399\n",
      "GD (10050.0): \t0.1219 +- 0.0354\n"
     ]
    }
   ],
   "source": [
    "best_mean_err, std, _ = get_best_err(err2)\n",
    "print_err_all0(labels)\n",
    "print_err(best_mean_err, std, weights2)"
   ]
  },
  {
   "cell_type": "code",
   "execution_count": null,
   "metadata": {},
   "outputs": [
    {
     "name": "stdout",
     "output_type": "stream",
     "text": [
      "SAVED as: c:\\Users\\Samuel\\OneDrive - Universidad Rey Juan Carlos\\Investigacion\\Graph_Deep_Decoder ./results/cora/cora_baselines2022_03_31-08_39\n"
     ]
    }
   ],
   "source": [
    "# # Save data\n",
    "# data = {\n",
    "#     'seed': SEED,\n",
    "#     'N_P': N_P,\n",
    "#     'exps': Exps,\n",
    "#     'err': err,\n",
    "#     'err2': err2,\n",
    "#     'lr': lr,\n",
    "#     'weights': weights,\n",
    "#     'weights2': weights2,\n",
    "#     'legend': legend,\n",
    "#     'fmts': [],\n",
    "# }\n",
    "# utils.save_results('cora_baselines', PATH, data)"
   ]
  },
  {
   "cell_type": "code",
   "execution_count": null,
   "metadata": {},
   "outputs": [],
   "source": [
    "plt.show()"
   ]
  }
 ],
 "metadata": {
  "kernelspec": {
   "display_name": "Python 3.8.3 ('base')",
   "language": "python",
   "name": "python3"
  },
  "language_info": {
   "codemirror_mode": {
    "name": "ipython",
    "version": 3
   },
   "file_extension": ".py",
   "mimetype": "text/x-python",
   "name": "python",
   "nbconvert_exporter": "python",
   "pygments_lexer": "ipython3",
   "version": "3.8.3"
  },
  "vscode": {
   "interpreter": {
    "hash": "9dc7fb51db6a4fbcb906efa4379403691b416364a826363e19747842d17bf31a"
   }
  }
 },
 "nbformat": 4,
 "nbformat_minor": 4
}
