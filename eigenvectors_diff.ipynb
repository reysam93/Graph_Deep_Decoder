{
 "cells": [
  {
   "cell_type": "code",
   "execution_count": 1,
   "metadata": {},
   "outputs": [],
   "source": [
    "import sys\n",
    "import time\n",
    "\n",
    "import numpy as np\n",
    "import matplotlib.pyplot as plt\n",
    "from pygsp.graphs import Graph\n",
    "\n",
    "sys.path.insert(0, '..')\n",
    "from graph_deep_decoder import datasets as ds\n",
    "from graph_deep_decoder import utils\n",
    "\n",
    "PATH = '../results/theorems/'\n",
    "SEED = 0\n",
    "np.random.seed(SEED)"
   ]
  },
  {
   "cell_type": "markdown",
   "metadata": {},
   "source": [
    "## Characterize graph models"
   ]
  },
  {
   "cell_type": "code",
   "execution_count": 2,
   "metadata": {},
   "outputs": [],
   "source": [
    "def characterize_graph(G):\n",
    "    N = G.N\n",
    "    A = np.asarray(G.W.todense())\n",
    "    min_degree =  np.min(np.sum(A, 1))\n",
    "    D_root_inv = np.diag(1/np.sqrt(np.sum(A, 1)))\n",
    "    A = D_root_inv.dot(A.dot(D_root_inv))\n",
    "    L_A, V_A = utils.ordered_eig(A)\n",
    "    \n",
    "    # Print summary\n",
    "    max_links = N*(N-1)/2\n",
    "    print('N:', N, ':')\n",
    "    print('\\t- norm A:', np.linalg.norm(A))\n",
    "    print('\\t- Proportion of links:', G.Ne/max_links)\n",
    "    print('\\t- Min degree:', min_degree)\n",
    "    print('\\t- First eigenvalues:', L_A[:15])\n",
    "    \n",
    "    plt.figure()\n",
    "    plt.imshow(A)\n",
    "    plt.title('N: ' + str(N) + ' A norm')\n",
    "    plt.figure()\n",
    "    plt.stem(L_A, use_line_collection=True)\n",
    "    plt.title('Eigenvalues of A')\n",
    "    \n",
    "def plot_expexted_A(Gs, n_samples):\n",
    "    E_A = np.zeros((Gs['N'], Gs['N']))\n",
    "    for i in range(n_samples):\n",
    "        E_A += ds.create_graph(Gs, SEED).W.todense()\n",
    "    E_A /= n_samples\n",
    "    plt.figure()\n",
    "    plt.imshow(E_A)\n",
    "    plt.title('Expected A')"
   ]
  },
  {
   "cell_type": "markdown",
   "metadata": {},
   "source": [
    "## Check eigenvector similarity"
   ]
  },
  {
   "cell_type": "code",
   "execution_count": 3,
   "metadata": {},
   "outputs": [],
   "source": [
    "np.random.seed(SEED)\n",
    "\n",
    "# Graph parameters\n",
    "GRAPHS = [{'Gs': {'type': ds.SBM, 'k': 8, 'type_z': ds.CONT, 'p':0.8, 'q': 0.05}, 'K': 8, 'leg': 'SBM'},\n",
    "          {'Gs': {'type': ds.CAVE, 'l': 8}, 'K': 8, 'leg': 'CAVE'},\n",
    "          {'Gs': {'type': ds.REG, 'd': 0.4}, 'K': 1, 'leg': 'REG'},\n",
    "          {'Gs': {'type': ds.SW, 'k': 0.25, 'p': 0.25}, 'K': 5, 'leg': 'SW'},\n",
    "          {'Gs': {'type': ds.PLC, 'm': 0.1, 'p': 0.3}, 'K': 1, 'leg': 'PLC'},\n",
    "         ]\n",
    "\n",
    "# Filter parameters\n",
    "L = 3\n",
    "hs = np.random.rand(L)\n",
    "hs /= np.sum(hs)\n",
    "h_params = {'type': 'FixedH', 'S': 'A', 'hs': hs, 'H_norm': False}\n",
    "\n",
    "n_graphs = 50\n",
    "KK = [None]\n",
    "NN = [50, 100, 500, 1000, 2000]"
   ]
  },
  {
   "cell_type": "code",
   "execution_count": 4,
   "metadata": {
    "scrolled": false
   },
   "outputs": [
    {
     "name": "stdout",
     "output_type": "stream",
     "text": [
      "SBM: 50 100 500 1000 2000 \n",
      "CAVE: 50 100 500 1000 2000 \n",
      "REG: 50 100 500 1000 2000 \n",
      "SW: 50 100 500 1000 2000 \n",
      "PLC: 50 100 500 1000 2000 \n",
      "\n",
      "--- 283.02372725009917 minutes ---\n"
     ]
    }
   ],
   "source": [
    "err_eigvec = np.zeros((len(KK), len(NN), len(GRAPHS), n_graphs))\n",
    "mean_err_eigvec = np.zeros((len(KK), len(NN), len(GRAPHS), n_graphs))\n",
    "\n",
    "start_time = time.time()\n",
    "for i, graph in enumerate(GRAPHS):\n",
    "    print(graph['leg'] + ':', end=' ')\n",
    "    for j, N in enumerate(NN):\n",
    "        graph['Gs']['N'] = N\n",
    "        for g in range(n_graphs):\n",
    "            G = ds.create_graph(graph['Gs'], SEED)\n",
    "            A = np.asarray(G.W.todense())\n",
    "            D_root_inv = np.diag(1/np.sqrt(np.sum(A, 1)))\n",
    "            A = D_root_inv.dot(A.dot(D_root_inv))\n",
    "            L_A, V_A = utils.ordered_eig(A)\n",
    "\n",
    "            # Calculate Exp Jacobian\n",
    "            H = utils.create_filter(A, h_params)\n",
    "            H2 = H.dot(H.T)\n",
    "            H_norm = H/np.linalg.norm(H, axis=0)\n",
    "            H2_norm = H_norm.T.dot(H_norm)\n",
    "            H2_norm[H2_norm>1] = 1\n",
    "            Z = 1-np.arccos(H2_norm)/np.pi\n",
    "            E_JJ = 0.5*Z*(H2)\n",
    "\n",
    "            L_E_JJ, V_E_JJ = utils.ordered_eig(E_JJ)\n",
    "            V_E_JJ = utils.choose_eig_sign(V_E_JJ, V_A)\n",
    "\n",
    "            for k in range(len(KK)):\n",
    "                K = KK[k]\n",
    "                if KK[k] is None:\n",
    "                    K = graph['K']\n",
    "                if K < 1:\n",
    "                    K = int(KK[k]*N)\n",
    "\n",
    "                err_eigvec[k, j, i, g] = np.linalg.norm(V_A[:, :K]-V_E_JJ[:, :K],'fro')\n",
    "                mean_err_eigvec[k, j, i, g] = err_eigvec[k, j, i, g]/K \n",
    "        print(N, end=' ')\n",
    "    print()\n",
    "    \n",
    "print('\\n--- {} minutes ---'.format((time.time()-start_time)/60))\n"
   ]
  },
  {
   "cell_type": "markdown",
   "metadata": {},
   "source": [
    "## Plot eigenvector ratio"
   ]
  },
  {
   "cell_type": "code",
   "execution_count": 5,
   "metadata": {
    "scrolled": true
   },
   "outputs": [
    {
     "data": {
      "image/png": "[encoded data removed]",
      "text/plain": [
       "<Figure size 432x288 with 1 Axes>"
      ]
     },
     "metadata": {
      "needs_background": "light"
     },
     "output_type": "display_data"
    }
   ],
   "source": [
    "legend_K = []\n",
    "legend_noK = []\n",
    "for i, gs in enumerate(GRAPHS):\n",
    "    legend_K.append('{}, K={}'.format(gs['leg'], gs['K']))\n",
    "    legend_noK.append('{}'.format(gs['leg']))\n",
    "\n",
    "legend = legend_K\n",
    "med_err_eigvec = np.median(err_eigvec, axis=3)\n",
    "med_mean_err_eigvec = np.median(mean_err_eigvec, axis=3)\n",
    "for k in range(len(KK)):\n",
    "    if k == 1:\n",
    "        legend = legend_noK\n",
    "    \n",
    "    f2 = plt.figure()\n",
    "    plt.loglog(NN, med_mean_err_eigvec[k], linewidth=4)\n",
    "    plt.legend(legend, prop={'size': 12})\n",
    "    plt.grid(True, which='both')\n",
    "    plt.xlabel('Number of nodes',fontsize=18)\n",
    "    plt.ylabel('Eigenvector error',fontsize=18)\n",
    "    plt.autoscale(enable=True, axis='x', tight=True)\n",
    "    plt.ylim([1e-6, 1])\n",
    "    plt.xticks(fontsize=18, ticks=NN, labels=NN)\n",
    "    plt.yticks(fontsize=18)\n",
    "    plt.tight_layout()"
   ]
  },
  {
   "cell_type": "code",
   "execution_count": 6,
   "metadata": {},
   "outputs": [],
   "source": [
    "plt.show()"
   ]
  }
 ],
 "metadata": {
  "kernelspec": {
   "display_name": "Python 3",
   "language": "python",
   "name": "python3"
  },
  "language_info": {
   "codemirror_mode": {
    "name": "ipython",
    "version": 3
   },
   "file_extension": ".py",
   "mimetype": "text/x-python",
   "name": "python",
   "nbconvert_exporter": "python",
   "pygments_lexer": "ipython3",
   "version": "3.8.3"
  }
 },
 "nbformat": 4,
 "nbformat_minor": 4
}
