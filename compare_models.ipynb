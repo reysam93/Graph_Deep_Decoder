{
 "cells": [
  {
   "cell_type": "code",
   "execution_count": 2,
   "metadata": {},
   "outputs": [],
   "source": [
    "import sys\n",
    "import copy\n",
    "import time\n",
    "\n",
    "import numpy as np\n",
    "import torch\n",
    "from torch import nn\n",
    "import matplotlib.pyplot as plt\n",
    "\n",
    "from pygsp import graphs\n",
    "\n",
    "sys.path.insert(0, '..')\n",
    "from graph_deep_decoder import datasets as ds\n",
    "from graph_deep_decoder import utils\n",
    "from graph_deep_decoder.architecture import GraphDecoder, GraphDeepDecoder, Ups, Upsampling\n",
    "from graph_deep_decoder.graph_clustering import MultiResGraphClustering, Type_A\n",
    "from graph_deep_decoder.model import Model, TVModel, LRModel, BLModel\n",
    "\n",
    "# %matplotlib qt\n",
    "\n",
    "SEED = 0\n",
    "SAVE = False"
   ]
  },
  {
   "cell_type": "markdown",
   "metadata": {},
   "source": [
    "### BL signal"
   ]
  },
  {
   "cell_type": "code",
   "execution_count": 3,
   "metadata": {},
   "outputs": [
    {
     "name": "stderr",
     "output_type": "stream",
     "text": [
      "<ipython-input-3-bb47d5902e60>:66: UserWarning: In Matplotlib 3.3 individual lines on a stem plot will be added as a LineCollection instead of individual lines. This significantly improves the performance of a stem plot. To remove this warning and switch to the new behaviour, set the \"use_line_collection\" keyword argument to True.\n",
      "  plt.stem(L_H)\n"
     ]
    }
   ],
   "source": [
    "torch.manual_seed(SEED)\n",
    "np.random.seed(SEED)\n",
    "\n",
    "# Graph parameters\n",
    "G_params = {}\n",
    "G_params['type'] = ds.SBM\n",
    "G_params['k'] = 8\n",
    "G_params['type_z'] = ds.CONT\n",
    "G_params['N'] = 256\n",
    "G_params['p'] = 0.75\n",
    "G_params['q'] = 0.0075\n",
    "\n",
    "# Signal parameters\n",
    "K = 3\n",
    "params = 8\n",
    "n_signals = 100\n",
    "n_p = 0.1\n",
    "\n",
    "# Model parameters\n",
    "epochs = 500\n",
    "lr = 0.001\n",
    "\n",
    "Exps = [{'type': 'TV', 'alpha': 1, 'legend': 'TV'},\n",
    "        {'type': 'LR', 'alpha': 0.1, 'legend': 'LR'},\n",
    "        {'type': 'BL', 'alpha': 0.1, 'max_coefs': False, 'legend': 'BL'},\n",
    "        {'type': 'BL', 'alpha': params, 'max_coefs': False, 'legend': 'BL'},\n",
    "        {'type': '2LD', 'fts': 150, 'std': 1, 'H_norm': True, 'legend': '2L-GCG'},\n",
    "        {'type': 'DD', 'ups': Ups.U_MAT, 'nodes': [256]*6, 'fts': [97]*5 + [1], 'bn': False,\n",
    "         'af': nn.ReLU(), 'laf': None, 'w_std': .1, 'in_std': .001, 'H_norm': False,\n",
    "         'legend': 'GCG'},\n",
    "        {'type': 'DD', 'ups': Ups.U_MEAN, 'nodes': [8, 16, 32, 64] + [256]*2, 'fts': [97]*5 + [1],\n",
    "         'af': nn.ReLU(), 'laf': None, 'w_std': 1, 'in_std': 1, 'bn': False,\n",
    "         'legend': 'GD'},\n",
    "        ]\n",
    "\n",
    "G = ds.create_graph(G_params, SEED)\n",
    "A = np.asarray(G.W.todense())\n",
    "S = A\n",
    "plt.figure()\n",
    "plt.imshow(A)\n",
    "Lambda, V = utils.ordered_eig(S)\n",
    "\n",
    "# Create filter H\n",
    "hs = np.random.rand(K)\n",
    "hs /= np.sum(hs)\n",
    "x_dw = ds.DiffusedWhiteGS(G, ds.NonLin.NONE, K, coefs=hs)\n",
    "H = x_dw.H\n",
    "H_norm = H/np.linalg.norm(H)\n",
    "\n",
    "L_H, V_H = utils.ordered_eig(H)\n",
    "plt.figure()\n",
    "plt.stem(L_H)\n",
    "plt.title('Eigvalues H')\n",
    "\n",
    "for exp in Exps:\n",
    "    if exp['type'] == '2LD':\n",
    "        exp['H'] = H_norm if exp['H_norm'] else H\n",
    "    elif exp['type'] == 'DD' and exp['ups'] == Ups.U_MEAN:\n",
    "        clt = MultiResGraphClustering(G, exp['nodes'], exp['nodes'][0])\n",
    "        exp['nodes'] = clt.sizes\n",
    "        exp['Us'] = clt.Us\n",
    "        exp['As'] = clt.As\n",
    "    elif exp['type'] == 'DD' and exp['ups'] == Ups.U_MAT:\n",
    "        exp['Us'] = [H_norm] if exp['H_norm'] else [H]\n",
    "        exp['Us'] = exp['Us']*(len(exp['nodes'])-2) + [None] \n",
    "        exp['As'] = []"
   ]
  },
  {
   "cell_type": "code",
   "execution_count": 4,
   "metadata": {},
   "outputs": [
    {
     "name": "stderr",
     "output_type": "stream",
     "text": [
      "<>:11: SyntaxWarning: \"is\" with a literal. Did you mean \"==\"?\n",
      "<>:13: SyntaxWarning: \"is\" with a literal. Did you mean \"==\"?\n",
      "<>:15: SyntaxWarning: \"is\" with a literal. Did you mean \"==\"?\n",
      "<>:18: SyntaxWarning: \"is\" with a literal. Did you mean \"==\"?\n",
      "<>:21: SyntaxWarning: \"is\" with a literal. Did you mean \"==\"?\n",
      "<>:11: SyntaxWarning: \"is\" with a literal. Did you mean \"==\"?\n",
      "<>:13: SyntaxWarning: \"is\" with a literal. Did you mean \"==\"?\n",
      "<>:15: SyntaxWarning: \"is\" with a literal. Did you mean \"==\"?\n",
      "<>:18: SyntaxWarning: \"is\" with a literal. Did you mean \"==\"?\n",
      "<>:21: SyntaxWarning: \"is\" with a literal. Did you mean \"==\"?\n",
      "<ipython-input-4-89d48be84c70>:11: SyntaxWarning: \"is\" with a literal. Did you mean \"==\"?\n",
      "  if exp['type'] is 'TV':\n",
      "<ipython-input-4-89d48be84c70>:13: SyntaxWarning: \"is\" with a literal. Did you mean \"==\"?\n",
      "  elif exp['type'] is 'LR':\n",
      "<ipython-input-4-89d48be84c70>:15: SyntaxWarning: \"is\" with a literal. Did you mean \"==\"?\n",
      "  elif exp['type'] is 'BL':\n",
      "<ipython-input-4-89d48be84c70>:18: SyntaxWarning: \"is\" with a literal. Did you mean \"==\"?\n",
      "  elif exp['type'] is '2LD':\n",
      "<ipython-input-4-89d48be84c70>:21: SyntaxWarning: \"is\" with a literal. Did you mean \"==\"?\n",
      "  elif exp['type'] is 'DD':\n"
     ]
    },
    {
     "name": "stdout",
     "output_type": "stream",
     "text": [
      "0 1 2 3 4 5 6 7 8 9 10 11 12 13 14 15 16 17 18 19 20 21 22 23 24 25 26 27 28 29 30 31 32 33 34 35 36 37 38 39 40 41 42 43 44 45 46 47 48 49 50 51 52 53 54 55 56 57 58 59 60 61 62 63 64 65 66 67 68 69 70 71 72 73 74 75 76 77 78 79 80 81 82 83 84 85 86 87 88 89 90 91 92 93 94 95 96 97 98 99 --- 7.728845282395681 minutes ---\n"
     ]
    }
   ],
   "source": [
    "err1 = np.zeros((len(Exps), n_signals, epochs))\n",
    "err_wrt_n3 = np.zeros((len(Exps), n_signals, epochs))\n",
    "X_bl256 = np.zeros((G.N, n_signals))\n",
    "weights = np.zeros(len(Exps))\n",
    "start_time = time.time()\n",
    "for i in range(n_signals):\n",
    "    x = ds.bandlimited_signal(Lambda, V, params)\n",
    "    X_bl256[:, i] = x\n",
    "    x_n = ds.GraphSignal.add_noise(x, n_p)\n",
    "    for j, exp in enumerate(Exps):\n",
    "        if exp['type'] == 'TV':\n",
    "            model = TVModel(G.W.todense(), exp['alpha'])\n",
    "        elif exp['type'] == 'LR':\n",
    "            model = LRModel(G.L.todense(), exp['alpha'])\n",
    "        elif exp['type'] == 'BL':\n",
    "            k_firsts = int(G.N*exp['alpha']) if exp['alpha'] < 1 else exp['alpha']\n",
    "            model = BLModel(V, k_firsts)\n",
    "        elif exp['type'] == '2LD':\n",
    "            dec = GraphDecoder(exp['fts'], exp['H'], exp['std'])\n",
    "            weights[j] = G.N*exp['fts']\n",
    "        elif exp['type'] == 'DD':\n",
    "            dec = GraphDeepDecoder(exp['fts'], exp['nodes'], exp['Us'], batch_norm=exp['bn'],\n",
    "                                   As=exp['As'], act_fn=exp['af'], ups=exp['ups'],\n",
    "                                   last_act_fn=exp['laf'], input_std=exp['in_std'],\n",
    "                                   w_std=exp['w_std'])\n",
    "            weights[j] = dec.count_params()\n",
    "        else:\n",
    "            raise Exception('Unkwown exp type')\n",
    "        \n",
    "        if exp['type'] in ['DD', '2LD']:\n",
    "            model = Model(dec, epochs=epochs, learning_rate=lr)\n",
    "            err_wrt_n3[j, i, :], err1[j, i, :], _ = model.fit(x_n, x)\n",
    "        else:\n",
    "            model.fit(x_n)\n",
    "            _, err_non_train = model.test(x)\n",
    "            err1[j, i, :] = np.repeat(err_non_train, epochs)\n",
    "    print(i, end=' ')\n",
    "\n",
    "print('--- {} minutes ---'.format((time.time()-start_time)/60))"
   ]
  },
  {
   "cell_type": "code",
   "execution_count": 5,
   "metadata": {},
   "outputs": [],
   "source": [
    "# np.save('../results/compare_models/models_SBM8_BL',err1)\n",
    "# err1 = np.load('../results/compare_models/models_SBM8_BL.npy')"
   ]
  },
  {
   "cell_type": "code",
   "execution_count": 6,
   "metadata": {
    "scrolled": false
   },
   "outputs": [
    {
     "name": "stderr",
     "output_type": "stream",
     "text": [
      "The PostScript backend does not support transparency; partially transparent artists will be rendered opaque.\n",
      "The PostScript backend does not support transparency; partially transparent artists will be rendered opaque.\n"
     ]
    }
   ],
   "source": [
    "leg = []\n",
    "for i, exp in enumerate(Exps):\n",
    "    txt = exp['legend']\n",
    "    if exp['type'] == 'BL':\n",
    "        if exp['alpha'] >= 1:\n",
    "            alpha = exp['alpha']\n",
    "        else:\n",
    "            alpha = int(exp['alpha']*G.N)\n",
    "        txt += ', K=' + str(alpha)\n",
    "    leg.append(txt)\n",
    "\n",
    "# Plots Median Error\n",
    "med_mse = np.median(err1, axis=1)\n",
    "fig = plt.figure()\n",
    "plt.semilogy(med_mse.T, linewidth=4)\n",
    "plt.legend(leg, prop={'size': 12})\n",
    "plt.grid(True, which='both')\n",
    "plt.xlabel('Epochs',fontsize=18)\n",
    "plt.ylabel('Median Error',fontsize=18)\n",
    "plt.xlim([0, epochs+1])\n",
    "plt.ylim([1e-3, 2])\n",
    "plt.xticks(fontsize=18)\n",
    "plt.yticks(fontsize=18)\n",
    "plt.tight_layout()\n",
    "\n",
    "if SAVE:\n",
    "    path = '../results/compare_models/'\n",
    "    fig.savefig(path + 'models_SBM8_BL.eps')"
   ]
  },
  {
   "cell_type": "markdown",
   "metadata": {},
   "source": [
    "### DW-MEDIAN signals"
   ]
  },
  {
   "cell_type": "code",
   "execution_count": 11,
   "metadata": {},
   "outputs": [
    {
     "name": "stdout",
     "output_type": "stream",
     "text": [
      "0 1 2 3 4 5 6 7 8 9 10 11 12 13 14 15 16 17 18 19 20 21 22 23 24 25 26 27 28 29 30 31 32 33 34 35 36 37 38 39 40 41 42 43 44 45 46 47 48 49 50 51 52 53 54 55 56 57 58 59 60 61 62 63 64 65 66 67 68 69 70 71 72 73 74 75 76 77 78 79 80 81 82 83 84 85 86 87 88 89 90 91 92 93 94 95 96 97 98 99 --- 7.9754852215449015 minutes ---\n"
     ]
    }
   ],
   "source": [
    "err2 = np.zeros((len(Exps), n_signals, epochs))\n",
    "err_wrt_n4 = np.zeros((len(Exps), n_signals, epochs))\n",
    "X_dw256 = np.zeros((G.N, n_signals))\n",
    "weights = np.zeros(len(Exps))\n",
    "start_time = time.time()\n",
    "for i in range(n_signals):\n",
    "    x_dw = ds.DiffusedWhiteGS(G, ds.NonLin.MEDIAN, K)\n",
    "    x_dw.to_unit_norm()\n",
    "    x = x_dw.x\n",
    "    X_dw256[:, i] = x\n",
    "    x_n = ds.GraphSignal.add_noise(x, n_p)\n",
    "    for j, exp in enumerate(Exps):\n",
    "        if exp['type'] == 'TV':\n",
    "            model = TVModel(G.W.todense(), exp['alpha'])\n",
    "        elif exp['type'] == 'LR':\n",
    "            model = LRModel(G.L.todense(), exp['alpha'])\n",
    "        elif exp['type'] == 'BL':\n",
    "            k_firsts = int(G.N*exp['alpha']) if exp['alpha'] < 1 else exp['alpha']\n",
    "            model = BLModel(V, k_firsts)\n",
    "        elif exp['type'] == '2LD':\n",
    "            dec = GraphDecoder(exp['fts'], exp['H'], exp['std'])\n",
    "            weights[j] = G.N*exp['fts']\n",
    "        elif exp['type'] == 'DD':\n",
    "            dec = GraphDeepDecoder(exp['fts'], exp['nodes'], exp['Us'], batch_norm=exp['bn'],\n",
    "                                   As=exp['As'], act_fn=exp['af'], ups=exp['ups'],\n",
    "                                   last_act_fn=exp['laf'], input_std=exp['in_std'],\n",
    "                                   w_std=exp['w_std'])\n",
    "            weights[j] = dec.count_params()\n",
    "        else:\n",
    "            raise Exception('Unkwown exp type')\n",
    "        \n",
    "        if exp['type'] in ['DD', '2LD']:\n",
    "            model = Model(dec, epochs=epochs, learning_rate=lr)\n",
    "            err_wrt_n4[j, i, :], err2[j, i, :], _ = model.fit(x_n, x)\n",
    "        else:\n",
    "            model.fit(x_n)\n",
    "            _, err_non_train = model.test(x)\n",
    "            err2[j, i, :] = np.repeat(err_non_train, epochs)\n",
    "    \n",
    "    print(i, end = ' ')\n",
    "\n",
    "print('--- {} minutes ---'.format((time.time()-start_time)/60))"
   ]
  },
  {
   "cell_type": "code",
   "execution_count": 12,
   "metadata": {},
   "outputs": [],
   "source": [
    "# np.save('../results/compare_models/models_SBM8_DW',err2)\n",
    "# err2 = np.load('../results/compare_models/models_SBM8_DW.npy')"
   ]
  },
  {
   "cell_type": "code",
   "execution_count": 10,
   "metadata": {
    "scrolled": false
   },
   "outputs": [
    {
     "name": "stderr",
     "output_type": "stream",
     "text": [
      "The PostScript backend does not support transparency; partially transparent artists will be rendered opaque.\n",
      "The PostScript backend does not support transparency; partially transparent artists will be rendered opaque.\n"
     ]
    },
    {
     "data": {
      "image/png": "[encoded data removed]",
      "text/plain": [
       "<Figure size 432x288 with 1 Axes>"
      ]
     },
     "metadata": {
      "needs_background": "light"
     },
     "output_type": "display_data"
    }
   ],
   "source": [
    "leg = []\n",
    "for i, exp in enumerate(Exps):\n",
    "    txt = exp['legend']\n",
    "    if exp['type'] == 'BL':\n",
    "        if exp['alpha'] >= 1:\n",
    "            alpha = exp['alpha']\n",
    "        else:\n",
    "            alpha = int(exp['alpha']*G.N)\n",
    "        txt += ', K=' + str(alpha)\n",
    "    leg.append(txt)\n",
    "    \n",
    "# Plots Median Error\n",
    "med_mse = np.median(err2, axis=1)\n",
    "fig = plt.figure()\n",
    "plt.semilogy(med_mse.T, linewidth=4)\n",
    "plt.legend(leg, prop={'size': 10})\n",
    "plt.grid(True, which='both')\n",
    "plt.xlabel('Epochs',fontsize=18)\n",
    "plt.ylabel('Median Error',fontsize=18)\n",
    "plt.xlim([0, epochs+1])\n",
    "plt.ylim([1e-3, 2])\n",
    "plt.xticks(fontsize=18)\n",
    "plt.yticks(fontsize=18)\n",
    "plt.tight_layout()\n",
    "\n",
    "if SAVE:\n",
    "    path = '../results/compare_models/'\n",
    "    fig.savefig(path + 'models_SBM8_DW.eps')"
   ]
  },
  {
   "cell_type": "code",
   "execution_count": null,
   "metadata": {},
   "outputs": [],
   "source": [
    "plt.show()"
   ]
  }
 ],
 "metadata": {
  "kernelspec": {
   "display_name": "Python 3",
   "language": "python",
   "name": "python3"
  },
  "language_info": {
   "codemirror_mode": {
    "name": "ipython",
    "version": 3
   },
   "file_extension": ".py",
   "mimetype": "text/x-python",
   "name": "python",
   "nbconvert_exporter": "python",
   "pygments_lexer": "ipython3",
   "version": "3.8.3"
  }
 },
 "nbformat": 4,
 "nbformat_minor": 2
}
